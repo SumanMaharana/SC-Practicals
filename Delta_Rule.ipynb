{
 "cells": [
  {
   "cell_type": "markdown",
   "id": "0c7f862f",
   "metadata": {},
   "source": [
    "### Write a program to implement Delta Rule"
   ]
  },
  {
   "cell_type": "code",
   "execution_count": 1,
   "id": "e5480e3e",
   "metadata": {},
   "outputs": [],
   "source": [
    "import numpy as np\n",
    "import warnings\n",
    "warnings.filterwarnings('ignore')"
   ]
  },
  {
   "cell_type": "code",
   "execution_count": 2,
   "id": "3065996b",
   "metadata": {},
   "outputs": [],
   "source": [
    "x = np.zeros((3,))"
   ]
  },
  {
   "cell_type": "code",
   "execution_count": 3,
   "id": "1aa543f7",
   "metadata": {},
   "outputs": [],
   "source": [
    "weights = np.zeros((3,))"
   ]
  },
  {
   "cell_type": "code",
   "execution_count": 4,
   "id": "e0e16b59",
   "metadata": {},
   "outputs": [],
   "source": [
    "desired = np.zeros((3,))"
   ]
  },
  {
   "cell_type": "code",
   "execution_count": 5,
   "id": "960a9d07",
   "metadata": {},
   "outputs": [],
   "source": [
    "actual = np.zeros((3,))"
   ]
  },
  {
   "cell_type": "code",
   "execution_count": 6,
   "id": "32c6f407",
   "metadata": {},
   "outputs": [
    {
     "name": "stdout",
     "output_type": "stream",
     "text": [
      "Initial Inputs:1\n",
      "Initial Inputs:1\n",
      "Initial Inputs:1\n"
     ]
    }
   ],
   "source": [
    "for i in range(0,3):\n",
    "    x[i] = float(input(\"Initial Inputs:\"))"
   ]
  },
  {
   "cell_type": "code",
   "execution_count": 7,
   "id": "261d755e",
   "metadata": {},
   "outputs": [
    {
     "name": "stdout",
     "output_type": "stream",
     "text": [
      "Initial Weights:1\n",
      "Initial Weights:1\n",
      "Initial Weights:1\n"
     ]
    }
   ],
   "source": [
    "for i in range(0,3):\n",
    "    weights[i] = float(input(\"Initial Weights:\"))"
   ]
  },
  {
   "cell_type": "code",
   "execution_count": 8,
   "id": "2dc5a10e",
   "metadata": {},
   "outputs": [
    {
     "name": "stdout",
     "output_type": "stream",
     "text": [
      "Desired Output:2\n",
      "Desired Output:3\n",
      "Desired Output:4\n"
     ]
    }
   ],
   "source": [
    "for i in range(0,3):\n",
    "    desired[i] = float(input(\"Desired Output:\"))"
   ]
  },
  {
   "cell_type": "code",
   "execution_count": 9,
   "id": "3d12a35b",
   "metadata": {},
   "outputs": [
    {
     "name": "stdout",
     "output_type": "stream",
     "text": [
      "Enter Learning Rate:1\n"
     ]
    }
   ],
   "source": [
    "a = float(input(\"Enter Learning Rate:\"))"
   ]
  },
  {
   "cell_type": "code",
   "execution_count": 10,
   "id": "ed929163",
   "metadata": {},
   "outputs": [
    {
     "data": {
      "text/plain": [
       "array([1., 1., 1.])"
      ]
     },
     "execution_count": 10,
     "metadata": {},
     "output_type": "execute_result"
    }
   ],
   "source": [
    "x"
   ]
  },
  {
   "cell_type": "code",
   "execution_count": 11,
   "id": "10582563",
   "metadata": {},
   "outputs": [
    {
     "data": {
      "text/plain": [
       "array([1., 1., 1.])"
      ]
     },
     "execution_count": 11,
     "metadata": {},
     "output_type": "execute_result"
    }
   ],
   "source": [
    "weights"
   ]
  },
  {
   "cell_type": "code",
   "execution_count": 12,
   "id": "3051459c",
   "metadata": {},
   "outputs": [
    {
     "data": {
      "text/plain": [
       "array([2., 3., 4.])"
      ]
     },
     "execution_count": 12,
     "metadata": {},
     "output_type": "execute_result"
    }
   ],
   "source": [
    "desired"
   ]
  },
  {
   "cell_type": "code",
   "execution_count": 13,
   "id": "f442641d",
   "metadata": {},
   "outputs": [
    {
     "data": {
      "text/plain": [
       "1.0"
      ]
     },
     "execution_count": 13,
     "metadata": {},
     "output_type": "execute_result"
    }
   ],
   "source": [
    "a"
   ]
  },
  {
   "cell_type": "code",
   "execution_count": 14,
   "id": "f02e749f",
   "metadata": {},
   "outputs": [],
   "source": [
    "actual = x * weights"
   ]
  },
  {
   "cell_type": "code",
   "execution_count": 17,
   "id": "ce80f249",
   "metadata": {},
   "outputs": [
    {
     "name": "stdout",
     "output_type": "stream",
     "text": [
      "Actual Output: [1. 1. 1.]\n",
      "Desired Output: [2. 3. 4.]\n"
     ]
    }
   ],
   "source": [
    "print(\"Actual Output:\",actual)\n",
    "print(\"Desired Output:\",desired)"
   ]
  },
  {
   "cell_type": "markdown",
   "id": "143bb425",
   "metadata": {},
   "source": [
    "#### Delta Rule\n",
    "lr = learning rate\n",
    "$$ wnew = wold + lr * (desired - actual) $$"
   ]
  },
  {
   "cell_type": "code",
   "execution_count": 19,
   "id": "bab2e023",
   "metadata": {},
   "outputs": [],
   "source": [
    "while True:\n",
    "    if np.array_equal(desired, actual):\n",
    "        break\n",
    "    else:\n",
    "        for i in range(0,3):\n",
    "            weights[i] = weights[i] + a * (desired[i] - actual[i])\n",
    "            actual = x * weights"
   ]
  },
  {
   "cell_type": "code",
   "execution_count": 21,
   "id": "ddb4f8fc",
   "metadata": {},
   "outputs": [
    {
     "name": "stdout",
     "output_type": "stream",
     "text": [
      "Final Output:\n",
      "Corrected Weights: [2. 3. 4.]\n",
      "Actual Output: [2. 3. 4.]\n",
      "Desired Output: [2. 3. 4.]\n"
     ]
    }
   ],
   "source": [
    "print(\"Final Output:\")\n",
    "print(\"Corrected Weights:\", weights)\n",
    "print(\"Actual Output:\",actual)\n",
    "print(\"Desired Output:\",desired)"
   ]
  },
  {
   "cell_type": "code",
   "execution_count": null,
   "id": "f297ce60",
   "metadata": {},
   "outputs": [],
   "source": []
  }
 ],
 "metadata": {
  "kernelspec": {
   "display_name": "Python 3 (ipykernel)",
   "language": "python",
   "name": "python3"
  },
  "language_info": {
   "codemirror_mode": {
    "name": "ipython",
    "version": 3
   },
   "file_extension": ".py",
   "mimetype": "text/x-python",
   "name": "python",
   "nbconvert_exporter": "python",
   "pygments_lexer": "ipython3",
   "version": "3.9.13"
  }
 },
 "nbformat": 4,
 "nbformat_minor": 5
}
