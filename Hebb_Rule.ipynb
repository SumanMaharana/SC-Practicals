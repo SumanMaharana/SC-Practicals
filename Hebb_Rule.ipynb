{
 "cells": [
  {
   "cell_type": "code",
   "execution_count": 1,
   "id": "06989f48",
   "metadata": {},
   "outputs": [],
   "source": [
    "import numpy as np\n",
    "import warnings\n",
    "warnings.filterwarnings('ignore')"
   ]
  },
  {
   "cell_type": "code",
   "execution_count": 2,
   "id": "c9fcb83b",
   "metadata": {},
   "outputs": [],
   "source": [
    "x = np.array([1,1,1,-1,1,-1,1,1,1])"
   ]
  },
  {
   "cell_type": "code",
   "execution_count": 3,
   "id": "545cb55d",
   "metadata": {},
   "outputs": [],
   "source": [
    "b = 0"
   ]
  },
  {
   "cell_type": "code",
   "execution_count": 4,
   "id": "f0ea36e3",
   "metadata": {},
   "outputs": [],
   "source": [
    "#y = output\n",
    "y = np.array([1,-1])"
   ]
  },
  {
   "cell_type": "code",
   "execution_count": 5,
   "id": "e192feaa",
   "metadata": {},
   "outputs": [],
   "source": [
    "wtold = np.zeros((9,))\n",
    "wtnew = np.zeros((9,))"
   ]
  },
  {
   "cell_type": "code",
   "execution_count": 6,
   "id": "4d564791",
   "metadata": {},
   "outputs": [],
   "source": [
    "wtnew = wtnew.astype(int)\n",
    "wtold = wtold.astype(int)"
   ]
  },
  {
   "cell_type": "code",
   "execution_count": 7,
   "id": "b4e20429",
   "metadata": {},
   "outputs": [
    {
     "data": {
      "text/plain": [
       "array([0, 0, 0, 0, 0, 0, 0, 0, 0])"
      ]
     },
     "execution_count": 7,
     "metadata": {},
     "output_type": "execute_result"
    }
   ],
   "source": [
    "wtnew"
   ]
  },
  {
   "cell_type": "code",
   "execution_count": 8,
   "id": "029e3df4",
   "metadata": {},
   "outputs": [
    {
     "data": {
      "text/plain": [
       "array([0, 0, 0, 0, 0, 0, 0, 0, 0])"
      ]
     },
     "execution_count": 8,
     "metadata": {},
     "output_type": "execute_result"
    }
   ],
   "source": [
    "wtold"
   ]
  },
  {
   "cell_type": "markdown",
   "id": "e35d0c8f",
   "metadata": {},
   "source": [
    "#### Weights update formula\n",
    "$$ w_t(new) = w_t(old) + x_i * y $$\n",
    "\n",
    "#### Bias Update\n",
    "$$ b(new) = b(old)+y $$"
   ]
  },
  {
   "cell_type": "code",
   "execution_count": 9,
   "id": "b012a38f",
   "metadata": {},
   "outputs": [
    {
     "name": "stdout",
     "output_type": "stream",
     "text": [
      "First input with target = 1\n"
     ]
    }
   ],
   "source": [
    "print('First input with target = 1')\n",
    "for i in range(0,9):\n",
    "    wtold[i] = wtold[i] + x[i] * y[0]\n",
    "wtnew = wtold    \n",
    "b = b + y[0]"
   ]
  },
  {
   "cell_type": "code",
   "execution_count": 10,
   "id": "d93dfcca",
   "metadata": {},
   "outputs": [
    {
     "name": "stdout",
     "output_type": "stream",
     "text": [
      "New weights: [ 1  1  1 -1  1 -1  1  1  1]\n",
      "Bias value: 1\n"
     ]
    }
   ],
   "source": [
    "print('New weights:', wtnew)\n",
    "print('Bias value:', b)"
   ]
  },
  {
   "cell_type": "code",
   "execution_count": 11,
   "id": "b936b8c2",
   "metadata": {},
   "outputs": [
    {
     "data": {
      "text/plain": [
       "array([ 1,  1,  1,  1, -1,  1,  1,  1,  1])"
      ]
     },
     "execution_count": 11,
     "metadata": {},
     "output_type": "execute_result"
    }
   ],
   "source": [
    "x2 = np.array([1,1,1,1,-1,1,1,1,1])\n",
    "x2"
   ]
  },
  {
   "cell_type": "code",
   "execution_count": 12,
   "id": "6a2d486b",
   "metadata": {},
   "outputs": [
    {
     "name": "stdout",
     "output_type": "stream",
     "text": [
      "First input with target = -1\n"
     ]
    }
   ],
   "source": [
    "print('First input with target = -1')\n",
    "for i in range(0,9):\n",
    "    wtnew[i] = wtold[i] + x2[i] * y[1]\n",
    "b = b + y[1]"
   ]
  },
  {
   "cell_type": "code",
   "execution_count": 13,
   "id": "3b1a830e",
   "metadata": {},
   "outputs": [
    {
     "name": "stdout",
     "output_type": "stream",
     "text": [
      "New weights: [ 0  0  0 -2  2 -2  0  0  0]\n",
      "Bias value: 0\n"
     ]
    }
   ],
   "source": [
    "print('New weights:', wtnew)\n",
    "print('Bias value:', b)"
   ]
  },
  {
   "cell_type": "code",
   "execution_count": null,
   "id": "9eeb1866",
   "metadata": {},
   "outputs": [],
   "source": []
  }
 ],
 "metadata": {
  "kernelspec": {
   "display_name": "Python 3 (ipykernel)",
   "language": "python",
   "name": "python3"
  },
  "language_info": {
   "codemirror_mode": {
    "name": "ipython",
    "version": 3
   },
   "file_extension": ".py",
   "mimetype": "text/x-python",
   "name": "python",
   "nbconvert_exporter": "python",
   "pygments_lexer": "ipython3",
   "version": "3.9.13"
  }
 },
 "nbformat": 4,
 "nbformat_minor": 5
}
